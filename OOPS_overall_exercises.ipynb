{
  "nbformat": 4,
  "nbformat_minor": 0,
  "metadata": {
    "colab": {
      "provenance": [],
      "authorship_tag": "ABX9TyNbdXjD4/v+qcHJeN5DbP9F",
      "include_colab_link": true
    },
    "kernelspec": {
      "name": "python3",
      "display_name": "Python 3"
    },
    "language_info": {
      "name": "python"
    }
  },
  "cells": [
    {
      "cell_type": "markdown",
      "metadata": {
        "id": "view-in-github",
        "colab_type": "text"
      },
      "source": [
        "<a href=\"https://colab.research.google.com/github/chaitanyamanchikatla/OOPs-practice/blob/main/OOPS_overall_exercises.ipynb\" target=\"_parent\"><img src=\"https://colab.research.google.com/assets/colab-badge.svg\" alt=\"Open In Colab\"/></a>"
      ]
    },
    {
      "cell_type": "code",
      "execution_count": null,
      "metadata": {
        "id": "3Mh8_8o6id2e"
      },
      "outputs": [],
      "source": [
        "# basic classes\n",
        "class Book:\n",
        "  def __init__(self, title, author, pages):\n",
        "    self.title = title\n",
        "    self.author = author\n",
        "    self.pages = pages\n",
        "  def description(self):\n",
        "    print(f\"{self.title} is written by {self.author}, and has {self.pages} pages\")\n"
      ]
    },
    {
      "cell_type": "code",
      "source": [
        "book1 = Book(\"The Alchemist\", \"Paulo Coelho\", 200)\n",
        "book1.description()\n",
        "book2 = Book(\"The Da Vinci Code\", \"Dan Brown\", 300)\n",
        "book2.description()"
      ],
      "metadata": {
        "colab": {
          "base_uri": "https://localhost:8080/"
        },
        "id": "npcY6DGPj9Jk",
        "outputId": "26129b44-6aa0-4f7a-b030-fbc193a5f6a0"
      },
      "execution_count": null,
      "outputs": [
        {
          "output_type": "stream",
          "name": "stdout",
          "text": [
            "The Alchemist is written by Paulo Coelho, and has 200 pages\n",
            "The Da Vinci Code is written by Dan Brown, and has 300 pages\n"
          ]
        }
      ]
    },
    {
      "cell_type": "code",
      "source": [
        "#Encapsulation\n",
        "class BankAccount:\n",
        "  def __init__(self, balance):\n",
        "    self.__balance = balance\n",
        "  def deposit(self, amount_added):\n",
        "    if amount_added >0:\n",
        "        self.__balance += amount_added\n",
        "    else:\n",
        "      print(\"error: ivalid amount\")\n",
        "  def withdraw(self, amount_taken):\n",
        "    if amount_taken >0:\n",
        "      if self.__balance >= amount_taken:\n",
        "          self.__balance -= amount_taken\n",
        "      else:\n",
        "        print(\"insufficient funds\")\n",
        "    else:\n",
        "      print(\"error: ivalid amount\")\n",
        "  def get_balance(self):\n",
        "    print(f\"The balance amount is {self.__balance}\")\n",
        "\n",
        "#object\n",
        "acc1 = BankAccount(1000)\n",
        "acc1.deposit(500)\n",
        "acc1.withdraw(200)\n",
        "acc1.get_balance()\n",
        "acc1.deposit(-500)\n",
        "acc1.withdraw(2000)"
      ],
      "metadata": {
        "colab": {
          "base_uri": "https://localhost:8080/"
        },
        "id": "7HbMRe5wkWPs",
        "outputId": "eff2dbab-1665-4ffc-9935-bf658933450f"
      },
      "execution_count": null,
      "outputs": [
        {
          "output_type": "stream",
          "name": "stdout",
          "text": [
            "The balance amount is 1300\n",
            "error: ivalid amount\n",
            "insufficient funds\n"
          ]
        }
      ]
    },
    {
      "cell_type": "code",
      "source": [
        "#Inheritance\n",
        "class Employee:\n",
        "  def __init__(self, name, salary):\n",
        "    self.name = name\n",
        "    self.salary = salary\n",
        "class Developer(Employee):\n",
        "  def __init__(self,name, salary, programming_language):\n",
        "    super().__init__(name, salary)\n",
        "    self.programming_language = programming_language\n",
        "  def display_info(self):\n",
        "    print(f\"Developer name is {self.name}. {self.name} is specialised in programming language {self.programming_language }, and salary is {self.salary}\")\n",
        "class Manager(Employee):\n",
        "  def __init__(self,name, salary, team_size):\n",
        "    super().__init__(name, salary)\n",
        "    self.team_size = team_size\n",
        "  def display_info(self):\n",
        "    print(f\"Manager name is {self.name}. {self.name} manages a team size of {self.team_size}, and salary is {self.salary}\")\n",
        "\n",
        "# objects\n",
        "dev = Developer(\"Alice\", 90000, \"Python\")\n",
        "mgr = Manager(\"Bob\", 120000, 10)\n",
        "dev.display_info()\n",
        "mgr.display_info()"
      ],
      "metadata": {
        "colab": {
          "base_uri": "https://localhost:8080/"
        },
        "id": "pS-jRsyKpMEZ",
        "outputId": "1eeb9cf2-7a6b-4abe-cfc2-434177299cb0"
      },
      "execution_count": null,
      "outputs": [
        {
          "output_type": "stream",
          "name": "stdout",
          "text": [
            "Developer name is Alice. Alice is specialised in programming language Python, and salary is 90000\n",
            "Manager name is Bob. Bob manages a team size of 10, and salary is 120000\n"
          ]
        }
      ]
    },
    {
      "cell_type": "code",
      "source": [
        "#Polymorphism\n",
        "class Dog:\n",
        "  def speak(self):\n",
        "    print(\"Bow\")\n",
        "class Cat:\n",
        "  def speak(self):\n",
        "    print(\"Meow\")\n",
        "class Bird:\n",
        "  def speak(self):\n",
        "    print(\"duck duck\")\n",
        "d = Dog()\n",
        "c = Cat()\n",
        "b = Bird()\n",
        "def make_sound(animal):\n",
        "  return animal.speak()\n",
        "make_sound(d)\n",
        "make_sound(c)\n",
        "make_sound(b)\n",
        "\n",
        "\n",
        "\n"
      ],
      "metadata": {
        "colab": {
          "base_uri": "https://localhost:8080/"
        },
        "id": "B1Agk57vsNyb",
        "outputId": "2431dfe2-c8e8-4495-f2aa-7ff529ee1473"
      },
      "execution_count": null,
      "outputs": [
        {
          "output_type": "stream",
          "name": "stdout",
          "text": [
            "Bow\n",
            "Meow\n",
            "duck duck\n"
          ]
        }
      ]
    },
    {
      "cell_type": "code",
      "source": [
        "#Abstraction\n",
        "from abc import ABC, abstractmethod\n",
        "class Shape(ABC):\n",
        "  @abstractmethod\n",
        "  def area(self):\n",
        "    pass\n",
        "class Circle(Shape):\n",
        "  def __init__(self, radius):\n",
        "    self.radius = radius\n",
        "  def area(self):\n",
        "    return 3.14*(self.radius)**2\n",
        "class Square(Shape):\n",
        "  def __init__(self, length, width):\n",
        "    self.length = length\n",
        "    self.width = width\n",
        "  def area(self):\n",
        "    return self.width*self.length\n",
        "\n",
        "\n",
        "# objects\n",
        "circle = Circle(5)\n",
        "square = Square(4,6)\n",
        "print(\"circle area\", circle.area())\n",
        "print(\"square area\", square.area())\n",
        "\n"
      ],
      "metadata": {
        "colab": {
          "base_uri": "https://localhost:8080/"
        },
        "id": "xYSzoQLS4bk4",
        "outputId": "cc589217-246e-42dd-d56f-34d6dc1ec782"
      },
      "execution_count": null,
      "outputs": [
        {
          "output_type": "stream",
          "name": "stdout",
          "text": [
            "circle area 78.5\n",
            "square area 24\n"
          ]
        }
      ]
    }
  ]
}