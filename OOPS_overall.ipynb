{
  "nbformat": 4,
  "nbformat_minor": 0,
  "metadata": {
    "colab": {
      "provenance": [],
      "authorship_tag": "ABX9TyMNAuG+ZADpAfQjpjg531Uy",
      "include_colab_link": true
    },
    "kernelspec": {
      "name": "python3",
      "display_name": "Python 3"
    },
    "language_info": {
      "name": "python"
    }
  },
  "cells": [
    {
      "cell_type": "markdown",
      "metadata": {
        "id": "view-in-github",
        "colab_type": "text"
      },
      "source": [
        "<a href=\"https://colab.research.google.com/github/chaitanyamanchikatla/OOPs-practice/blob/main/OOPS_overall.ipynb\" target=\"_parent\"><img src=\"https://colab.research.google.com/assets/colab-badge.svg\" alt=\"Open In Colab\"/></a>"
      ]
    },
    {
      "cell_type": "markdown",
      "source": [
        "A constructor is a special method in a class that automatically runs when you create an object. Its main job is to initialize the object’s attributes (properties)."
      ],
      "metadata": {
        "id": "S9FGjMsiaznp"
      }
    },
    {
      "cell_type": "code",
      "execution_count": null,
      "metadata": {
        "colab": {
          "base_uri": "https://localhost:8080/"
        },
        "id": "ElmyPxgfZc3r",
        "outputId": "6d2d31d7-8983-4e15-a6f2-8aebd9631395"
      },
      "outputs": [
        {
          "output_type": "stream",
          "name": "stdout",
          "text": [
            "Toyota Carmry is driving\n"
          ]
        }
      ],
      "source": [
        "class Car:\n",
        "  def __init__(self, brand, model): # constructor\n",
        "    self.brand = brand\n",
        "    self.model = model\n",
        "  def drive(self):\n",
        "    print(f\"{self.brand} {self.model} is driving\")\n",
        "car1 = Car(\"Toyota\", \"Carmry\")\n",
        "car1.drive()"
      ]
    },
    {
      "cell_type": "markdown",
      "source": [
        "Encapsulation and accessors\n",
        "Definition:\n",
        "Encapsulation is the concept of hiding internal object details (like variables) and restricting direct access to them. Instead, access is provided through methods.\n",
        "\n",
        "Why it matters:\n",
        "\n",
        "Protects data from unauthorized access or accidental modification\n",
        "\n",
        "Allows controlled and safe updates to internal state"
      ],
      "metadata": {
        "id": "kKnNglS6f14q"
      }
    },
    {
      "cell_type": "code",
      "source": [
        "class Employee:\n",
        "  def __init__(self, name, salary):\n",
        "    self.name = name\n",
        "    self.__salary = salary #private attribute, can't edit like Arub.salary = 50000 (see below)\n",
        "  def set_salary(self, new_salary): # Mutator or setter\n",
        "    if new_salary > 0 :\n",
        "      self.__salary = new_salary\n",
        "  def get_salary(self): # getter or accessor\n",
        "    return self.__salary\n",
        "Arub = Employee(\"Arub\", 40000)\n",
        "Arub.salary = 50000 #creates a new public attribute named salary\n",
        "Arub.__salary = 50000 #can't edit like Arub.salary = 50000, throws error = AttributeError: 'Employee' object has no attribute 'salary'\n",
        "print(Arub.salary)\n",
        "print(Arub.get_salary())\n",
        "\n",
        "\n"
      ],
      "metadata": {
        "colab": {
          "base_uri": "https://localhost:8080/"
        },
        "id": "79vI_mDIaWuQ",
        "outputId": "bf21dd88-e950-4282-c136-3f85d609be83"
      },
      "execution_count": null,
      "outputs": [
        {
          "output_type": "stream",
          "name": "stdout",
          "text": [
            "50000\n",
            "40000\n"
          ]
        }
      ]
    },
    {
      "cell_type": "markdown",
      "source": [
        "Inheritance is an OOP concept where a class (called the child or subclass) can inherit attributes and methods from another class (called the parent or superclass).\n",
        "\n",
        "It allows:\n",
        "\n",
        "1. Code reuse (no need to rewrite common logic), i.e. u can use attributes and methods defined in parent class for child class objects without defining them again in child class.\n",
        "\n",
        "2. Specialization (child class can override or extend parent behavior)"
      ],
      "metadata": {
        "id": "G829ao5oojNq"
      }
    },
    {
      "cell_type": "code",
      "source": [
        "class Animal:\n",
        "  def __init__(self, name):\n",
        "    self.name = name\n",
        "  def speak(self):\n",
        "    print(\"some generic animal sound\")\n",
        "class Dog(Animal):\n",
        "  def __init__(self,name,size):\n",
        "    super().__init__(name)\n",
        "    self.size = size\n",
        "  def speak(self): # overwriting\n",
        "    print(f\"{self.name} says bow bow ans is of size: {self.size}\") # inheriting\n",
        "buddy = Dog(\"Buddy\", 5)\n",
        "buddy.speak()"
      ],
      "metadata": {
        "colab": {
          "base_uri": "https://localhost:8080/"
        },
        "id": "XnVeeR6npWGU",
        "outputId": "e1dd71e2-59e0-4332-83cd-f046388bac16"
      },
      "execution_count": null,
      "outputs": [
        {
          "output_type": "stream",
          "name": "stdout",
          "text": [
            "Buddy says bow bow ans is of size: 5\n"
          ]
        }
      ]
    },
    {
      "cell_type": "code",
      "source": [
        "class Animal:\n",
        "  def speak(self):  #u can define with out constructor as well\n",
        "    print(\n",
        "        'Animal sound'    #just trying multi line statements\n",
        "    )\n",
        "class Dog(Animal):\n",
        "  def speak(self):  #overwriting\n",
        "    print(\"bark\")\n",
        "d = Dog()\n",
        "d.speak()\n",
        "c = Animal()\n",
        "c.speak()"
      ],
      "metadata": {
        "colab": {
          "base_uri": "https://localhost:8080/"
        },
        "id": "UmGsFijXl9eX",
        "outputId": "7a42c983-73f9-4498-870a-4f4d2dfa51ee"
      },
      "execution_count": null,
      "outputs": [
        {
          "output_type": "stream",
          "name": "stdout",
          "text": [
            "bark\n",
            "Animal sound\n"
          ]
        }
      ]
    },
    {
      "cell_type": "markdown",
      "source": [
        "Polymorphism: Polymorphism allows different classes to use the same method name, but each class implements it differently.\n"
      ],
      "metadata": {
        "id": "aysb7nq6ebJU"
      }
    },
    {
      "cell_type": "code",
      "source": [
        "class Dog:\n",
        "  def speak(self):\n",
        "    print(\"bark\")\n",
        "class Cat:\n",
        "  def speak(self):\n",
        "    print(\"meow\")\n",
        "class Human:\n",
        "  def speak(self):\n",
        "    print(\"Hello\")\n",
        "\n",
        "#Polymorphic use: Same method (speak) on different types of objects — works seamlessly.\n",
        "d = Dog()\n",
        "c = Cat()\n",
        "h = Human()\n",
        "d.speak()\n",
        "c.speak()\n",
        "h.speak()\n",
        "\n"
      ],
      "metadata": {
        "colab": {
          "base_uri": "https://localhost:8080/"
        },
        "id": "_RBvYy-_e-IK",
        "outputId": "b5f38da9-8002-4b1d-f30e-6b14521eb3fc"
      },
      "execution_count": null,
      "outputs": [
        {
          "output_type": "stream",
          "name": "stdout",
          "text": [
            "bark\n",
            "meow\n",
            "Hello\n"
          ]
        }
      ]
    },
    {
      "cell_type": "markdown",
      "source": [
        "**[R+    Didn't quite get it]**\n",
        "Abstraction means hiding complex internal details and showing only the essential features of an object.\n",
        "\n",
        "It allows the user to interact with the object without knowing how it works internally.\n",
        "1. ABC = Abstract Base class = we cannot use to create objects\n",
        "2. @abstractmethod = It is a decorator in Python that tells the interpreter:\n",
        "\n",
        "❗“This method must be overridden in any subclass of this class. Otherwise, that subclass is also abstract and can’t be instantiated.”\n",
        "3. You use @abstractmethod inside an abstract base class.\n",
        "4. It marks a method as required — any class that inherits from this must implement it, or it can’t be used.\n",
        "\n"
      ],
      "metadata": {
        "id": "HLGbc84aTfSm"
      }
    },
    {
      "cell_type": "code",
      "source": [
        "from abc import ABC, abstractmethod\n",
        "class Animal(ABC):\n",
        "  @abstractmethod\n",
        "  def speak(self):\n",
        "    pass\n",
        "a = Animal() # ❌ This will raise an error!"
      ],
      "metadata": {
        "colab": {
          "base_uri": "https://localhost:8080/",
          "height": 179
        },
        "id": "bH8Npfh-pBnY",
        "outputId": "aa28b706-0998-49f6-f5ab-7530d12eadca"
      },
      "execution_count": null,
      "outputs": [
        {
          "output_type": "error",
          "ename": "TypeError",
          "evalue": "Can't instantiate abstract class Animal with abstract method speak",
          "traceback": [
            "\u001b[0;31m---------------------------------------------------------------------------\u001b[0m",
            "\u001b[0;31mTypeError\u001b[0m                                 Traceback (most recent call last)",
            "\u001b[0;32m/tmp/ipython-input-5-543696135.py\u001b[0m in \u001b[0;36m<cell line: 0>\u001b[0;34m()\u001b[0m\n\u001b[1;32m      4\u001b[0m   \u001b[0;32mdef\u001b[0m \u001b[0mspeak\u001b[0m\u001b[0;34m(\u001b[0m\u001b[0mself\u001b[0m\u001b[0;34m)\u001b[0m\u001b[0;34m:\u001b[0m\u001b[0;34m\u001b[0m\u001b[0;34m\u001b[0m\u001b[0m\n\u001b[1;32m      5\u001b[0m     \u001b[0;32mpass\u001b[0m\u001b[0;34m\u001b[0m\u001b[0;34m\u001b[0m\u001b[0m\n\u001b[0;32m----> 6\u001b[0;31m \u001b[0ma\u001b[0m \u001b[0;34m=\u001b[0m \u001b[0mAnimal\u001b[0m\u001b[0;34m(\u001b[0m\u001b[0;34m)\u001b[0m \u001b[0;31m# ❌ This will raise an error!\u001b[0m\u001b[0;34m\u001b[0m\u001b[0;34m\u001b[0m\u001b[0m\n\u001b[0m",
            "\u001b[0;31mTypeError\u001b[0m: Can't instantiate abstract class Animal with abstract method speak"
          ]
        }
      ]
    },
    {
      "cell_type": "code",
      "source": [
        "# so create child class Dog\n",
        "class Dog(Animal):\n",
        "  def speak(self):\n",
        "    print(\"Woof\")\n",
        "d = Dog()\n",
        "d.speak()\n"
      ],
      "metadata": {
        "colab": {
          "base_uri": "https://localhost:8080/"
        },
        "id": "5jXTdB_v2G7k",
        "outputId": "94df2dce-8695-40e2-ae01-ac84d3ce0160"
      },
      "execution_count": null,
      "outputs": [
        {
          "output_type": "stream",
          "name": "stdout",
          "text": [
            "Woof\n"
          ]
        }
      ]
    },
    {
      "cell_type": "code",
      "source": [
        "#incorrect subclass, u can't  create objects of Cat class, it pops error\n",
        "class Cat(Animal):\n",
        "    pass\n",
        "c = Cat() #pops error\n"
      ],
      "metadata": {
        "colab": {
          "base_uri": "https://localhost:8080/",
          "height": 179
        },
        "id": "-ZDTVafxUZN1",
        "outputId": "d0e2ecff-af34-4e8d-87dc-f9db63819241"
      },
      "execution_count": null,
      "outputs": [
        {
          "output_type": "error",
          "ename": "TypeError",
          "evalue": "Can't instantiate abstract class Cat with abstract method speak",
          "traceback": [
            "\u001b[0;31m---------------------------------------------------------------------------\u001b[0m",
            "\u001b[0;31mTypeError\u001b[0m                                 Traceback (most recent call last)",
            "\u001b[0;32m/tmp/ipython-input-7-927936763.py\u001b[0m in \u001b[0;36m<cell line: 0>\u001b[0;34m()\u001b[0m\n\u001b[1;32m      2\u001b[0m \u001b[0;32mclass\u001b[0m \u001b[0mCat\u001b[0m\u001b[0;34m(\u001b[0m\u001b[0mAnimal\u001b[0m\u001b[0;34m)\u001b[0m\u001b[0;34m:\u001b[0m\u001b[0;34m\u001b[0m\u001b[0;34m\u001b[0m\u001b[0m\n\u001b[1;32m      3\u001b[0m     \u001b[0;32mpass\u001b[0m\u001b[0;34m\u001b[0m\u001b[0;34m\u001b[0m\u001b[0m\n\u001b[0;32m----> 4\u001b[0;31m \u001b[0mc\u001b[0m \u001b[0;34m=\u001b[0m \u001b[0mCat\u001b[0m\u001b[0;34m(\u001b[0m\u001b[0;34m)\u001b[0m \u001b[0;31m#pops error\u001b[0m\u001b[0;34m\u001b[0m\u001b[0;34m\u001b[0m\u001b[0m\n\u001b[0m",
            "\u001b[0;31mTypeError\u001b[0m: Can't instantiate abstract class Cat with abstract method speak"
          ]
        }
      ]
    },
    {
      "cell_type": "markdown",
      "source": [
        "What's a decorator?\n",
        "A decorator in Python (like @abstractmethod, @staticmethod, @classmethod) is a way to add functionality or mark behavior on a method.\n",
        "\n",
        "So @abstractmethod is basically tagging the method with “this is a must-implement method”."
      ],
      "metadata": {
        "id": "0MjhTza1U1TB"
      }
    },
    {
      "cell_type": "code",
      "source": [
        "#example of classmethod\n",
        "class Person:\n",
        "  def __init__(self, name):\n",
        "    self.name = name\n",
        "  @classmethod   # alternate way of constructor function\n",
        "  def from_string(cls, string):\n",
        "    return cls(string.split()[0])\n",
        "\n",
        "p = Person.from_string(\"Alice Johnson\") # u can call method of class because this method is @classmethod\n",
        "print(p.name) # return Alice as p is object of Person class with name Alice\n"
      ],
      "metadata": {
        "id": "QVN-utiWWrFN"
      },
      "execution_count": null,
      "outputs": []
    },
    {
      "cell_type": "code",
      "source": [],
      "metadata": {
        "id": "dvW6ZPZZhCFM"
      },
      "execution_count": null,
      "outputs": []
    }
  ]
}